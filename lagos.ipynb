{
 "cells": [
  {
   "cell_type": "code",
   "execution_count": 51,
   "metadata": {},
   "outputs": [],
   "source": [
    "import pandas as pd\n",
    "from category_encoders import OneHotEncoder\n",
    "import matplotlib.pyplot as plt\n",
    "import plotly.express as px\n",
    "import seaborn as sns\n",
    "from sklearn.model_selection import train_test_split\n",
    "from sklearn.linear_model import Ridge\n",
    "from sklearn.pipeline import make_pipeline, Pipeline\n",
    "from sklearn.impute import SimpleImputer\n",
    "from sklearn.metrics import mean_absolute_error\n",
    "from ipywidgets import Dropdown, FloatSlider, IntSlider, interact"
   ]
  },
  {
   "cell_type": "code",
   "execution_count": 52,
   "metadata": {},
   "outputs": [
    {
     "data": {
      "text/html": [
       "<div>\n",
       "<style scoped>\n",
       "    .dataframe tbody tr th:only-of-type {\n",
       "        vertical-align: middle;\n",
       "    }\n",
       "\n",
       "    .dataframe tbody tr th {\n",
       "        vertical-align: top;\n",
       "    }\n",
       "\n",
       "    .dataframe thead th {\n",
       "        text-align: right;\n",
       "    }\n",
       "</style>\n",
       "<table border=\"1\" class=\"dataframe\">\n",
       "  <thead>\n",
       "    <tr style=\"text-align: right;\">\n",
       "      <th></th>\n",
       "      <th>bedrooms</th>\n",
       "      <th>toilets</th>\n",
       "      <th>parking_space</th>\n",
       "      <th>title</th>\n",
       "      <th>town</th>\n",
       "      <th>price</th>\n",
       "    </tr>\n",
       "  </thead>\n",
       "  <tbody>\n",
       "    <tr>\n",
       "      <th>0</th>\n",
       "      <td>6.0</td>\n",
       "      <td>5.0</td>\n",
       "      <td>4.0</td>\n",
       "      <td>Detached Duplex</td>\n",
       "      <td>Mabushi</td>\n",
       "      <td>450000000.0</td>\n",
       "    </tr>\n",
       "    <tr>\n",
       "      <th>17</th>\n",
       "      <td>3.0</td>\n",
       "      <td>4.0</td>\n",
       "      <td>4.0</td>\n",
       "      <td>Detached Bungalow</td>\n",
       "      <td>Lokogoma District</td>\n",
       "      <td>37000000.0</td>\n",
       "    </tr>\n",
       "    <tr>\n",
       "      <th>23</th>\n",
       "      <td>5.0</td>\n",
       "      <td>7.0</td>\n",
       "      <td>6.0</td>\n",
       "      <td>Detached Duplex</td>\n",
       "      <td>Katampe</td>\n",
       "      <td>160000000.0</td>\n",
       "    </tr>\n",
       "    <tr>\n",
       "      <th>34</th>\n",
       "      <td>5.0</td>\n",
       "      <td>6.0</td>\n",
       "      <td>6.0</td>\n",
       "      <td>Detached Duplex</td>\n",
       "      <td>Kaura</td>\n",
       "      <td>150000000.0</td>\n",
       "    </tr>\n",
       "    <tr>\n",
       "      <th>35</th>\n",
       "      <td>4.0</td>\n",
       "      <td>5.0</td>\n",
       "      <td>8.0</td>\n",
       "      <td>Detached Duplex</td>\n",
       "      <td>Galadimawa</td>\n",
       "      <td>70000000.0</td>\n",
       "    </tr>\n",
       "  </tbody>\n",
       "</table>\n",
       "</div>"
      ],
      "text/plain": [
       "    bedrooms  toilets  parking_space              title               town  \\\n",
       "0        6.0      5.0            4.0    Detached Duplex            Mabushi   \n",
       "17       3.0      4.0            4.0  Detached Bungalow  Lokogoma District   \n",
       "23       5.0      7.0            6.0    Detached Duplex            Katampe   \n",
       "34       5.0      6.0            6.0    Detached Duplex              Kaura   \n",
       "35       4.0      5.0            8.0    Detached Duplex         Galadimawa   \n",
       "\n",
       "          price  \n",
       "0   450000000.0  \n",
       "17   37000000.0  \n",
       "23  160000000.0  \n",
       "34  150000000.0  \n",
       "35   70000000.0  "
      ]
     },
     "execution_count": 52,
     "metadata": {},
     "output_type": "execute_result"
    }
   ],
   "source": [
    "def wrangle(filepath, state = \"Lagos\"):\n",
    "    df = pd.read_csv(filepath)\n",
    "    \n",
    "    #Subset to apartments in lagos\n",
    "    df = df[df[\"state\"] == state]\n",
    "    \n",
    "    #Drop '\"state\"' column because it has a low cardinality\n",
    "    df.drop(columns = \"state\", inplace=True)\n",
    "    \n",
    "    #Check and remove outliers from the target\n",
    "    df[\"price\"].describe()\n",
    "    low, high = df[\"price\"].quantile([0.1, 0.9])\n",
    "    \n",
    "    #Subset price after removing the outliers\n",
    "    df=df[df[\"price\"].between(low,high)]\n",
    "\n",
    "    #Drop highly correlated columns\n",
    "    df.drop(columns = [\"bathrooms\"], inplace = True)\n",
    "\n",
    "    return df\n",
    "\n",
    "df = wrangle(\"nigeria_houses_data.csv\", \"Abuja\")\n",
    "df.head()"
   ]
  },
  {
   "cell_type": "code",
   "execution_count": 53,
   "metadata": {},
   "outputs": [
    {
     "data": {
      "image/png": "[encoded data removed]",
      "text/plain": [
       "<Figure size 432x288 with 1 Axes>"
      ]
     },
     "metadata": {
      "needs_background": "light"
     },
     "output_type": "display_data"
    }
   ],
   "source": [
    "#Visualize and check for outliers using a histogram\n",
    "df[\"price\"].plot(kind = \"hist\");"
   ]
  },
  {
   "cell_type": "code",
   "execution_count": 54,
   "metadata": {},
   "outputs": [
    {
     "data": {
      "text/html": [
       "<div>\n",
       "<style scoped>\n",
       "    .dataframe tbody tr th:only-of-type {\n",
       "        vertical-align: middle;\n",
       "    }\n",
       "\n",
       "    .dataframe tbody tr th {\n",
       "        vertical-align: top;\n",
       "    }\n",
       "\n",
       "    .dataframe thead th {\n",
       "        text-align: right;\n",
       "    }\n",
       "</style>\n",
       "<table border=\"1\" class=\"dataframe\">\n",
       "  <thead>\n",
       "    <tr style=\"text-align: right;\">\n",
       "      <th></th>\n",
       "      <th>bedrooms</th>\n",
       "      <th>toilets</th>\n",
       "      <th>parking_space</th>\n",
       "    </tr>\n",
       "  </thead>\n",
       "  <tbody>\n",
       "    <tr>\n",
       "      <th>bedrooms</th>\n",
       "      <td>1.000000</td>\n",
       "      <td>0.620737</td>\n",
       "      <td>0.037383</td>\n",
       "    </tr>\n",
       "    <tr>\n",
       "      <th>toilets</th>\n",
       "      <td>0.620737</td>\n",
       "      <td>1.000000</td>\n",
       "      <td>0.070095</td>\n",
       "    </tr>\n",
       "    <tr>\n",
       "      <th>parking_space</th>\n",
       "      <td>0.037383</td>\n",
       "      <td>0.070095</td>\n",
       "      <td>1.000000</td>\n",
       "    </tr>\n",
       "  </tbody>\n",
       "</table>\n",
       "</div>"
      ],
      "text/plain": [
       "               bedrooms   toilets  parking_space\n",
       "bedrooms       1.000000  0.620737       0.037383\n",
       "toilets        0.620737  1.000000       0.070095\n",
       "parking_space  0.037383  0.070095       1.000000"
      ]
     },
     "execution_count": 54,
     "metadata": {},
     "output_type": "execute_result"
    }
   ],
   "source": [
    "#Check correlation\n",
    "corr = df.select_dtypes(\"number\").drop(columns = [\"price\"]).corr()\n",
    "corr"
   ]
  },
  {
   "cell_type": "code",
   "execution_count": 55,
   "metadata": {},
   "outputs": [
    {
     "data": {
      "image/png": "[encoded data removed]",
      "text/plain": [
       "<Figure size 432x288 with 2 Axes>"
      ]
     },
     "metadata": {
      "needs_background": "light"
     },
     "output_type": "display_data"
    }
   ],
   "source": [
    "#Visualize correlation\n",
    "sns.heatmap(corr)\n",
    "plt.title(\"Correlation\");"
   ]
  },
  {
   "cell_type": "code",
   "execution_count": 56,
   "metadata": {},
   "outputs": [],
   "source": [
    "#Vertical Split\n",
    "target = \"price\"\n",
    "X = df.drop(columns = target)\n",
    "y = df[target]"
   ]
  },
  {
   "cell_type": "code",
   "execution_count": 57,
   "metadata": {},
   "outputs": [],
   "source": [
    "#Perform train test split\n",
    "X_train, X_test, y_train, y_test = train_test_split(\n",
    "    X, y, test_size = 0.2, random_state = 42\n",
    "\n",
    ")\n",
    "\n",
    "#Create Cut-off and split values\n",
    "# cut_off = int(len(y) * 0.2)\n",
    "# X_train,y_train = X.iloc[:cut_off],y.iloc[:cut_off]\n",
    "# X_test,y_test = X.iloc[cut_off:],y.iloc[cut_off:]\n"
   ]
  },
  {
   "cell_type": "code",
   "execution_count": 58,
   "metadata": {},
   "outputs": [
    {
     "data": {
      "text/plain": [
       "70134758.21"
      ]
     },
     "execution_count": 58,
     "metadata": {},
     "output_type": "execute_result"
    }
   ],
   "source": [
    "#Mean absolute error of baseline\n",
    "mae_baseline = round(mean_absolute_error([y_train.mean()] * len(y_train), y_train),2)\n",
    "mae_baseline"
   ]
  },
  {
   "cell_type": "code",
   "execution_count": 59,
   "metadata": {},
   "outputs": [
    {
     "data": {
      "text/plain": [
       "Pipeline(steps=[('onehotencoder',\n",
       "                 OneHotEncoder(cols=['title', 'town'], use_cat_names=True)),\n",
       "                ('ridge', Ridge())])"
      ]
     },
     "execution_count": 59,
     "metadata": {},
     "output_type": "execute_result"
    }
   ],
   "source": [
    "#Train model\n",
    "imputer = SimpleImputer()\n",
    "model = make_pipeline(\n",
    "    OneHotEncoder(use_cat_names = True),\n",
    "    Ridge()\n",
    ")\n",
    "model.fit(X_train, y_train)"
   ]
  },
  {
   "cell_type": "code",
   "execution_count": 60,
   "metadata": {},
   "outputs": [
    {
     "data": {
      "text/plain": [
       "43816115.71"
      ]
     },
     "execution_count": 60,
     "metadata": {},
     "output_type": "execute_result"
    }
   ],
   "source": [
    "#Mean absolute error of training\n",
    "mae_training = round(mean_absolute_error(y_train, model.predict(X_train)),2)\n",
    "mae_training"
   ]
  },
  {
   "cell_type": "code",
   "execution_count": 61,
   "metadata": {},
   "outputs": [
    {
     "data": {
      "text/plain": [
       "45820515.78"
      ]
     },
     "execution_count": 61,
     "metadata": {},
     "output_type": "execute_result"
    }
   ],
   "source": [
    "#Mean absolute error of test\n",
    "mae_test = round(mean_absolute_error(y_test, model.predict(X_test)),2)\n",
    "mae_test"
   ]
  },
  {
   "cell_type": "code",
   "execution_count": 62,
   "metadata": {},
   "outputs": [],
   "source": [
    "#Generate features and coefficients\n",
    "features = model.named_steps[\"onehotencoder\"].get_feature_names()\n",
    "coeff = model.named_steps[\"ridge\"].coef_\n"
   ]
  },
  {
   "cell_type": "code",
   "execution_count": 63,
   "metadata": {},
   "outputs": [],
   "source": [
    "#Create a series of coefficients where the index is the features\n",
    "feat_imp = pd.Series(coeff, index = features)"
   ]
  },
  {
   "cell_type": "code",
   "execution_count": 64,
   "metadata": {},
   "outputs": [
    {
     "data": {
      "text/plain": [
       "Index(['bedrooms', 'toilets', 'parking_space', 'title', 'town'], dtype='object')"
      ]
     },
     "execution_count": 64,
     "metadata": {},
     "output_type": "execute_result"
    }
   ],
   "source": [
    "X_train.columns"
   ]
  },
  {
   "cell_type": "code",
   "execution_count": 65,
   "metadata": {},
   "outputs": [
    {
     "data": {
      "text/plain": [
       "0    5.338399e+07\n",
       "1    1.400386e+08\n",
       "2    2.149211e+08\n",
       "3    1.396080e+08\n",
       "4    1.406431e+08\n",
       "dtype: float64"
      ]
     },
     "execution_count": 65,
     "metadata": {},
     "output_type": "execute_result"
    }
   ],
   "source": [
    "#Generate test predictions\n",
    "test_pred = pd.Series(model.predict(X_test))\n",
    "test_pred[:5]"
   ]
  },
  {
   "cell_type": "code",
   "execution_count": 66,
   "metadata": {},
   "outputs": [],
   "source": [
    "def make_prediction(bedrooms, toilets, parking_space, title, town):\n",
    "    data = {\n",
    "        \"bedrooms\" : bedrooms,\n",
    "        \"toilets\" : toilets,\n",
    "        \"parking_space\" : parking_space,\n",
    "        \"title\" : title,\n",
    "        \"town\" : town\n",
    "    }\n",
    "    df = pd.DataFrame(data, index = [0])\n",
    "    prediction = model.predict(df).round(2)[0]\n",
    "    return f\"Predicted house price: #{prediction}\""
   ]
  },
  {
   "cell_type": "code",
   "execution_count": 67,
   "metadata": {},
   "outputs": [
    {
     "data": {
      "text/plain": [
       "'Predicted house price: #51292790.26'"
      ]
     },
     "execution_count": 67,
     "metadata": {},
     "output_type": "execute_result"
    }
   ],
   "source": [
    "make_prediction(2, 3, 4, \"Detached Bungalow\", \"Lekki\")"
   ]
  },
  {
   "cell_type": "code",
   "execution_count": 68,
   "metadata": {},
   "outputs": [
    {
     "data": {
      "application/vnd.jupyter.widget-view+json": {
       "model_id": "6b1ce68874ac4518a86122a3e556a79d",
       "version_major": 2,
       "version_minor": 0
      },
      "text/plain": [
       "interactive(children=(IntSlider(value=4, description='bedrooms', max=9, min=1), IntSlider(value=5, description…"
      ]
     },
     "metadata": {},
     "output_type": "display_data"
    }
   ],
   "source": [
    "interact(\n",
    "    make_prediction,\n",
    "    bedrooms = IntSlider(\n",
    "        min=X_train[\"bedrooms\"].min(),\n",
    "        max=X_train[\"bedrooms\"].max(),\n",
    "        value=X_train[\"bedrooms\"].mean(),\n",
    "    ),\n",
    "    toilets = IntSlider(\n",
    "        min=X_train[\"toilets\"].min(),\n",
    "        max=X_train[\"toilets\"].max(),\n",
    "        step=1,\n",
    "        value=X_train[\"toilets\"].mean(),\n",
    "    ),\n",
    "    parking_space = IntSlider(\n",
    "        min=X_train[\"parking_space\"].min(),\n",
    "        max=X_train[\"parking_space\"].max(),\n",
    "        step=1,\n",
    "        value=X_train[\"parking_space\"].mean(),\n",
    "    ),\n",
    "    title = Dropdown(options=sorted(X_train[\"title\"].unique())),\n",
    "    town = Dropdown(options=sorted(X_train[\"town\"].unique())),\n",
    ");"
   ]
  },
  {
   "cell_type": "code",
   "execution_count": null,
   "metadata": {},
   "outputs": [],
   "source": []
  }
 ],
 "metadata": {
  "kernelspec": {
   "display_name": "Python 3.9.12 ('base')",
   "language": "python",
   "name": "python3"
  },
  "language_info": {
   "codemirror_mode": {
    "name": "ipython",
    "version": 3
   },
   "file_extension": ".py",
   "mimetype": "text/x-python",
   "name": "python",
   "nbconvert_exporter": "python",
   "pygments_lexer": "ipython3",
   "version": "3.9.12"
  },
  "orig_nbformat": 4,
  "vscode": {
   "interpreter": {
    "hash": "dc07d24e2f18896857f0b2a651fe84ba40ce7b297e58d8804a308c8039f752a6"
   }
  }
 },
 "nbformat": 4,
 "nbformat_minor": 2
}
